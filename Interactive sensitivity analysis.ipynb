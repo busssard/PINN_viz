{
 "cells": [
  {
   "cell_type": "markdown",
   "metadata": {},
   "source": [
    "# Analysis of a PINN trained with several parameters"
   ]
  },
  {
   "cell_type": "markdown",
   "metadata": {
    "collapsed": true
   },
   "source": [
    "This has been in the course of master thesis and further work for the publication"
   ]
  },
  {
   "cell_type": "code",
   "execution_count": 2,
   "metadata": {},
   "outputs": [
    {
     "name": "stdout",
     "output_type": "stream",
     "text": [
      "helloo\n"
     ]
    }
   ],
   "source": [
    "print('helloo')"
   ]
  },
  {
   "cell_type": "code",
   "execution_count": 3,
   "metadata": {},
   "outputs": [],
   "source": [
    "import matplotlib\n",
    "import matplotlib.pyplot as plt\n",
    "import numpy as np\n"
   ]
  },
  {
   "cell_type": "code",
   "execution_count": 4,
   "metadata": {},
   "outputs": [
    {
     "data": {
      "application/vnd.jupyter.widget-view+json": {
       "model_id": "151704850db64eb7a94629316599c426",
       "version_major": 2,
       "version_minor": 0
      },
      "text/plain": [
       "interactive(children=(FloatSlider(value=0.0, description='m', max=10.0, min=-10.0, step=0.5), FloatSlider(valu…"
      ]
     },
     "metadata": {},
     "output_type": "display_data"
    }
   ],
   "source": [
    "def plotthis(m,c):\n",
    "    x = np.random.rand(10)\n",
    "    y = m *x + c\n",
    "    plt.plot(x,y)\n",
    "    y = c *x + m\n",
    "    plt.plot(x,y)\n",
    "    plt.show()\n",
    "\n",
    "from ipywidgets import interact, interactive, fixed, interact_manual\n",
    "\n",
    "\n",
    "interactive(plotthis, m=(-10,10, 0.5), c=(-5,5,0.5))\n",
    "\n"
   ]
  },
  {
   "cell_type": "code",
   "execution_count": 5,
   "metadata": {},
   "outputs": [],
   "source": [
    "from mpl_toolkits.axes_grid1 import make_axes_locatable\n",
    "import matplotlib.colors as mc\n",
    "import colorsys\n",
    "from matplotlib import rc\n",
    "import matplotlib.animation as animation\n",
    "from matplotlib import cm\n",
    "from matplotlib.ticker import LinearLocator\n",
    "from mpl_toolkits.mplot3d import Axes3D\n",
    "import seaborn as sns\n",
    "import pandas as pd"
   ]
  },
  {
   "cell_type": "code",
   "execution_count": 6,
   "metadata": {},
   "outputs": [],
   "source": [
    "import torch\n",
    "import torch.nn as nn\n",
    "import torch.optim as optim\n",
    "import torch.utils\n",
    "import torch.utils.data\n",
    "from torch.utils.data import DataLoader\n",
    "from torch.utils.data import DataLoader\n",
    "from torchvision import transforms\n"
   ]
  },
  {
   "cell_type": "code",
   "execution_count": 7,
   "metadata": {},
   "outputs": [],
   "source": [
    "#Setting file paths\n",
    "folder_path = \"D:\\polybox\\Masterthesis\\PINN\\Taniya\\Paper_Model_param_6_24/\"\n",
    "images_path = folder_path + \"Images/\"\n",
    "model_path = folder_path + \"TrainedModel/\"\n",
    "val_path =  \"D:\\polybox\\Masterthesis\\PINN\\Taniya\\\\fem\\\\\"\n",
    "#loading trained model to evaluate\n",
    "model = torch.load(\"model_best_direct.pkl\", torch.device('cpu'))\n",
    "model=model.eval()"
   ]
  },
  {
   "cell_type": "code",
   "execution_count": 8,
   "metadata": {},
   "outputs": [],
   "source": [
    "#setting model constants\n",
    "umax=3000\n",
    "tmax=0.0015\n",
    "xmax=1.8\n",
    "ymax=2\n",
    "cond=0.1\n",
    "rhocp=0.0049731\n",
    "pow=0.075\n",
    "v=1\n",
    "sig=0.05\n",
    "extrema =torch.tensor([[-0.1, 1],[-1, 1.8], [-1, 1], [-1,0.03]])\n",
    "\n",
    "#Setting plotting values\n",
    "plot_dim=100 #resolution\n",
    "t1 = 0.0 #plot at time t=t1\n",
    "plotsize = 0.5 #size of markers\n",
    "z1 = 0.03 #evaluated z-height for x-y-plots"
   ]
  },
  {
   "cell_type": "code",
   "execution_count": 9,
   "metadata": {},
   "outputs": [
    {
     "data": {
      "text/plain": [
       "\"height=50\\nwidth=50\\nplt.rcParams['figure.figsize'] = [height, width]\\nplt.rcParams.update({'font.family':'DejaVu Sans'})\\nplot_dpi=1800\""
      ]
     },
     "execution_count": 9,
     "metadata": {},
     "output_type": "execute_result"
    }
   ],
   "source": [
    "\n",
    "#set dimension of plots\n",
    "'''height=50\n",
    "width=50\n",
    "plt.rcParams['figure.figsize'] = [height, width]\n",
    "plt.rcParams.update({'font.family':'DejaVu Sans'})\n",
    "plot_dpi=1800'''\n"
   ]
  },
  {
   "cell_type": "code",
   "execution_count": 10,
   "metadata": {},
   "outputs": [],
   "source": [
    "\n",
    "# read in data set of FEM\n",
    "node_coord_df = pd.read_csv(val_path + 'nodes.csv', index_col='label')\n",
    "temp_df = pd.read_csv(val_path + 'temp100.csv', index_col='label')\n",
    "test_inp = node_coord_df.to_numpy()\n",
    "Exact = temp_df.to_numpy()"
   ]
  },
  {
   "cell_type": "code",
   "execution_count": 27,
   "metadata": {},
   "outputs": [],
   "source": [
    "def calc_meltpool_dim(timestep, material, P, v):\n",
    "    P=P/1000\n",
    "    if material==1:\n",
    "        cond=0.0072\n",
    "        rhocp=0.0025\n",
    "        T_solidus=1640\n",
    "    elif material==2:\n",
    "        cond=0.015\n",
    "        rhocp=0.004\n",
    "        T_solidus=1370\n",
    "    elif material==3:\n",
    "        cond=0.001\n",
    "        rhocp=0.004\n",
    "        T_solidus=1300\n",
    "    t_i = float(0.0001 * timestep / 0.0015)\n",
    "    \n",
    "    x_source = t_i * 1.5  # x-coordinate of source at evaluated timestep for further use\n",
    "    # Evaluate PINN Model Prediction in x-y\n",
    "    imax = 10000\n",
    "    ### Meltpool dimesnion 1: x+\n",
    "    i = 0\n",
    "    x = x_source\n",
    "    T_pred = 3000\n",
    "    inc = 0.05\n",
    "    \n",
    "    while i < imax:\n",
    "        i = i + 1\n",
    "        x = np.array(x + inc, dtype=np.float32)\n",
    "        y = np.array(0, dtype=np.float32)\n",
    "        z = np.array(z1, dtype=np.float32)\n",
    "        x_t = torch.reshape(torch.from_numpy(x), [np.size(x), 1])\n",
    "        y_t = torch.reshape(torch.from_numpy(y), [np.size(x), 1])\n",
    "        z_t = torch.reshape(torch.from_numpy(z), [np.size(x), 1])\n",
    "        t_t = torch.tensor(()).new_full(size=(np.size(x), 1), fill_value=t_i)\n",
    "        p_c = torch.cat(\n",
    "        [torch.tensor(()).new_full(size=(x_t.shape[0], 1), fill_value=cond),\n",
    "         torch.tensor(()).new_full(size=(x_t.shape[0], 1), fill_value=rhocp),\n",
    "         torch.tensor(()).new_full(size=(x_t.shape[0], 1), fill_value=P),\n",
    "         torch.tensor(()).new_full(size=(x_t.shape[0], 1), fill_value=v)]\n",
    "        , 1)\n",
    "        plot_var2 = torch.cat([t_t, x_t, y_t, z_t, p_c], 1)\n",
    "        T_pred = model(plot_var2)[:, 0]\n",
    "        T_pred = T_pred.detach().cpu().numpy() * umax\n",
    "        if T_pred < T_solidus:\n",
    "            x = x - inc\n",
    "            inc = inc / 2\n",
    "        if inc < 0.000001:\n",
    "            i = imax\n",
    "    print(\"Melpool size in front of Laser\", round(x - x_source, 5))\n",
    "    x_max = x\n",
    "    ### Meltpool dimesnion 2: x-\n",
    "    i = 0\n",
    "    x = x_source\n",
    "    t_t = torch.tensor(()).new_full(size=(np.size(x), 1), fill_value=t_i)\n",
    "    T_pred = 3000\n",
    "    inc = 0.1\n",
    "    while i < imax:\n",
    "        i = i + 1\n",
    "        x = np.array(x - inc, dtype=np.float32)\n",
    "        y = np.array(0, dtype=np.float32)\n",
    "        z = np.array(z1, dtype=np.float32)\n",
    "        x_t = torch.reshape(torch.from_numpy(x), [np.size(x), 1])\n",
    "        y_t = torch.reshape(torch.from_numpy(y), [np.size(x), 1])\n",
    "        z_t = torch.reshape(torch.from_numpy(z), [np.size(x), 1])\n",
    "        plot_var2 = torch.cat([t_t, x_t, y_t, z_t, p_c], 1)\n",
    "        T_pred = model(plot_var2)[:, 0]\n",
    "        T_pred = T_pred.detach().cpu().numpy() * umax\n",
    "        if T_pred < T_solidus:\n",
    "            x = x + inc\n",
    "            inc = inc / 2\n",
    "        if inc < 0.000001:\n",
    "            i = imax\n",
    "    x_min = x\n",
    "\n",
    "    ### Meltpool dimesnion 3: y+\n",
    "    print(\"Melpool size behind Laser\", round(abs(x_min - x_source), 5))\n",
    "    i = 0\n",
    "    y = 0\n",
    "    T_pred = 3000\n",
    "    inc = 0.1\n",
    "    while i < imax:\n",
    "        i = i + 1\n",
    "        x = np.array(x_source, dtype=np.float32)\n",
    "        y = np.array(y + inc, dtype=np.float32)\n",
    "        z = np.array(z1, dtype=np.float32)\n",
    "        x_t = torch.reshape(torch.from_numpy(x), [np.size(x), 1])\n",
    "        y_t = torch.reshape(torch.from_numpy(y), [np.size(x), 1])\n",
    "        z_t = torch.reshape(torch.from_numpy(z), [np.size(x), 1])\n",
    "        plot_var2 = torch.cat([t_t, x_t, y_t, z_t,p_c], 1)\n",
    "        T_pred = model(plot_var2)[:, 0]\n",
    "        T_pred = T_pred.detach().cpu().numpy() * umax\n",
    "        if T_pred < T_solidus:\n",
    "            y = y - inc\n",
    "            inc = inc / 2\n",
    "        if inc < 0.000001:\n",
    "            i = imax\n",
    "    y_max = y\n",
    "    print(\"Melpool size left of Laser\", round(y, 5))\n",
    "    i = 0\n",
    "    y = 0\n",
    "    T_pred = 3000\n",
    "    inc = 0.1\n",
    "    while i < imax:\n",
    "        i = i + 1\n",
    "        x = np.array(x_source, dtype=np.float32)\n",
    "        y = np.array(y - inc, dtype=np.float32)\n",
    "        z = np.array(z1, dtype=np.float32)\n",
    "        x_t = torch.reshape(torch.from_numpy(x), [np.size(x), 1])\n",
    "        y_t = torch.reshape(torch.from_numpy(y), [np.size(x), 1])\n",
    "        z_t = torch.reshape(torch.from_numpy(z), [np.size(x), 1])\n",
    "        plot_var2 = torch.cat([t_t, x_t, y_t, z_t, p_c], 1)\n",
    "        T_pred = model(plot_var2)[:, 0]\n",
    "        T_pred = T_pred.detach().cpu().numpy() * umax\n",
    "        if T_pred < T_solidus:\n",
    "            y = y + inc\n",
    "            inc = inc / 2\n",
    "        if inc < 0.000001:\n",
    "            i = imax\n",
    "    y_min = y\n",
    "    print(\"Melpool size right of Laser\", round(abs(y), 5))\n",
    "    i = 0\n",
    "    T_pred = 3000\n",
    "    inc = 0.1\n",
    "    while i < imax:\n",
    "        i = i + 1\n",
    "        x = np.array(x_source, dtype=np.float32)\n",
    "        y = np.array(0, dtype=np.float32)\n",
    "        z = np.array(z - inc, dtype=np.float32)\n",
    "        x_t = torch.reshape(torch.from_numpy(x), [np.size(x), 1])\n",
    "        y_t = torch.reshape(torch.from_numpy(y), [np.size(x), 1])\n",
    "        z_t = torch.reshape(torch.from_numpy(z), [np.size(x), 1])\n",
    "        plot_var2 = torch.cat([t_t, x_t, y_t, z_t, p_c], 1)\n",
    "        T_pred = model(plot_var2)[:, 0]\n",
    "        T_pred = T_pred.detach().cpu().numpy() * umax\n",
    "        if T_pred < T_solidus:\n",
    "            z = z + inc\n",
    "            inc = inc / 2\n",
    "        if inc < 0.000001:\n",
    "            i = imax\n",
    "    z_min = z\n",
    "    print(\"Melpool size below Laser\", round(z1-z_min, 5))"
   ]
  },
  {
   "cell_type": "code",
   "execution_count": 36,
   "metadata": {},
   "outputs": [],
   "source": [
    "def plot_model(timestep, material, P, v, zoom):\n",
    "    \n",
    "    if material==1:\n",
    "        cond=0.0072\n",
    "        rhocp=0.0025\n",
    "    elif material==2:\n",
    "        cond=0.015\n",
    "        rhocp=0.004\n",
    "    elif material==3:\n",
    "        cond=0.001\n",
    "        rhocp=0.004\n",
    "    \n",
    "    P=P/1000\n",
    "    t_i = float(0.0001 * timestep / 0.0015)\n",
    "    sig = 0.05\n",
    "    y = torch.reshape(torch.linspace(extrema[2, 0]/zoom, extrema[2, 1]/zoom, plot_dim), [plot_dim, 1])\n",
    "    x = torch.reshape(torch.linspace( 1.5-2.8*torch.max(y).numpy().round(2), 1.5, plot_dim), [plot_dim, 1])\n",
    "    # Plot the surface.\n",
    "    X = x.numpy()\n",
    "    Y = y.numpy()\n",
    "    X, Y = np.meshgrid(X, Y)\n",
    "    x_t = torch.reshape(torch.from_numpy(X), [plot_dim ** 2, 1])\n",
    "    y_t = torch.reshape(torch.from_numpy(Y), [plot_dim ** 2, 1])\n",
    "    p_c = torch.cat(\n",
    "        [torch.tensor(()).new_full(size=(x_t.shape[0], 1), fill_value=cond),\n",
    "         torch.tensor(()).new_full(size=(x_t.shape[0], 1), fill_value=rhocp),\n",
    "         torch.tensor(()).new_full(size=(x_t.shape[0], 1), fill_value=P),\n",
    "         torch.tensor(()).new_full(size=(x_t.shape[0], 1), fill_value=v)]\n",
    "        , 1)\n",
    "\n",
    "    plot_var = torch.cat(\n",
    "                        [torch.tensor(()).new_full(size=(plot_dim ** 2, 1), fill_value=t_i),\n",
    "                        x_t,\n",
    "                        y_t,\n",
    "                        torch.tensor(()).new_full(size=(plot_dim ** 2, 1), fill_value=z1),\n",
    "                        p_c],1)\n",
    "    Z4 = model(plot_var)[:, 0]\n",
    "    Z4 = torch.reshape(Z4, [plot_dim, plot_dim])\n",
    "    Z4 = Z4.detach().cpu().numpy() * umax    \n",
    "    print(np.max(Z4))\n",
    "    fig, (ax2) = plt.subplots(ncols=1) \n",
    "    sns.heatmap(Z4, cmap=\"rocket\", ax=ax2, cbar=False)\n",
    "    \n",
    "    #specify x-axis tick positions and labels\n",
    "    plt.xticks([0, plot_dim/2, plot_dim], [torch.min(x).numpy().round(2),np.round((torch.max(x).numpy()-torch.min(x).numpy().round(2))/2,2), torch.max(x).numpy().round(2)])\n",
    "    #specify y-axis tick positions and labels\n",
    "    plt.yticks([0, plot_dim/2, plot_dim], [torch.min(y).numpy().round(2),0 , torch.max(y).numpy().round(2)])\n",
    "    fig.colorbar(ax2.collections[0], ax=ax2, location=\"right\", use_gridspec=False, pad=0.2)\n",
    "\n",
    "    ax2.set_title('Predicted Temperature')\n",
    "    plt.show()\n"
   ]
  },
  {
   "cell_type": "code",
   "execution_count": 37,
   "metadata": {},
   "outputs": [
    {
     "data": {
      "application/vnd.jupyter.widget-view+json": {
       "model_id": "ca41a5fa07d84d0997514193a5e40dcb",
       "version_major": 2,
       "version_minor": 0
      },
      "text/plain": [
       "interactive(children=(IntSlider(value=7, description='timestep', max=15), Dropdown(description='material', opt…"
      ]
     },
     "metadata": {},
     "output_type": "display_data"
    },
    {
     "data": {
      "text/plain": [
       "<function __main__.plot_model(timestep, material, P, v, zoom)>"
      ]
     },
     "execution_count": 37,
     "metadata": {},
     "output_type": "execute_result"
    }
   ],
   "source": [
    "from ipywidgets import interact_manual#t_i, cond, rhocp, P, v, T_solidus\n",
    "T_solidus=1260\n",
    "interact_manual(plot_model,timestep=(0,15, 1), material=[('Titanium', 1), ('Stainless', 2), ('HastelloyX',3)], P=(50,200,10), v=(0.2,2,0.02), zoom=(1,5,1))\n"
   ]
  },
  {
   "cell_type": "code",
   "execution_count": 30,
   "metadata": {},
   "outputs": [
    {
     "data": {
      "application/vnd.jupyter.widget-view+json": {
       "model_id": "d9efb87d5cf04c2595ee68860e1e88db",
       "version_major": 2,
       "version_minor": 0
      },
      "text/plain": [
       "interactive(children=(IntSlider(value=7, description='timestep', max=15), Dropdown(description='material', opt…"
      ]
     },
     "metadata": {},
     "output_type": "display_data"
    },
    {
     "data": {
      "text/plain": [
       "<function __main__.calc_meltpool_dim(timestep, material, P, v)>"
      ]
     },
     "execution_count": 30,
     "metadata": {},
     "output_type": "execute_result"
    }
   ],
   "source": [
    "\n",
    "interact_manual(calc_meltpool_dim,timestep=(0,15, 1), material=[('Titanium', 1), ('Stainless', 2), ('HastelloyX',3)], P=(50,200,10), v=(0.2,2,0.02), zoom=(1,5,1))\n"
   ]
  },
  {
   "cell_type": "code",
   "execution_count": 33,
   "metadata": {},
   "outputs": [],
   "source": [
    "def plot_melt(timestep, material, P, v, zoom):\n",
    "    \n",
    "    if material==1:\n",
    "        cond=0.0072\n",
    "        rhocp=0.0025\n",
    "        T_solidus=1640\n",
    "    elif material==2:\n",
    "        cond=0.015\n",
    "        rhocp=0.004\n",
    "        T_solidus=1370\n",
    "    elif material==3:\n",
    "        cond=0.001\n",
    "        rhocp=0.004\n",
    "        T_solidus=1300\n",
    "    \n",
    "    P=P/1000\n",
    "    t_i = float(0.0001 * timestep / 0.0015)\n",
    "    sig = 0.05\n",
    "    y = torch.reshape(torch.linspace(extrema[2, 0]/zoom, extrema[2, 1]/zoom, plot_dim), [plot_dim, 1])\n",
    "    x = torch.reshape(torch.linspace( 1.5-2.8*torch.max(y).numpy().round(2), 1.5, plot_dim), [plot_dim, 1])\n",
    "    # Plot the surface.\n",
    "    X = x.numpy()\n",
    "    Y = y.numpy()\n",
    "    X, Y = np.meshgrid(X, Y)\n",
    "    x_t = torch.reshape(torch.from_numpy(X), [plot_dim ** 2, 1])\n",
    "    y_t = torch.reshape(torch.from_numpy(Y), [plot_dim ** 2, 1])\n",
    "    p_c = torch.cat(\n",
    "        [torch.tensor(()).new_full(size=(x_t.shape[0], 1), fill_value=cond),\n",
    "         torch.tensor(()).new_full(size=(x_t.shape[0], 1), fill_value=rhocp),\n",
    "         torch.tensor(()).new_full(size=(x_t.shape[0], 1), fill_value=P),\n",
    "         torch.tensor(()).new_full(size=(x_t.shape[0], 1), fill_value=v)]\n",
    "        , 1)\n",
    "\n",
    "    plot_var = torch.cat(\n",
    "                        [torch.tensor(()).new_full(size=(plot_dim ** 2, 1), fill_value=t_i),\n",
    "                        x_t,\n",
    "                        y_t,\n",
    "                        torch.tensor(()).new_full(size=(plot_dim ** 2, 1), fill_value=z1),\n",
    "                        p_c],1)\n",
    "    Z4 = model(plot_var)[:, 0]\n",
    "    Z4 = torch.reshape(Z4, [plot_dim, plot_dim])\n",
    "    Z4 = Z4.detach().cpu().numpy() * umax    \n",
    "    Melt = Z4 > T_solidus\n",
    "    fig, (ax2) = plt.subplots(ncols=1) \n",
    "    sns.heatmap(Melt, cmap=\"rocket\", ax=ax2, cbar=False)\n",
    "    \n",
    "    #specify x-axis tick positions and labels\n",
    "    plt.xticks([0, plot_dim/2, plot_dim], [torch.min(x).numpy().round(2),np.round((torch.max(x).numpy()-torch.min(x).numpy().round(2))/2,2), torch.max(x).numpy().round(2)])\n",
    "    #specify y-axis tick positions and labels\n",
    "    plt.yticks([0, plot_dim/2, plot_dim], [torch.min(y).numpy().round(2),0 , torch.max(y).numpy().round(2)])\n",
    "    fig.colorbar(ax2.collections[0], ax=ax2, location=\"right\", use_gridspec=False, pad=0.2)\n",
    "\n",
    "    ax2.set_title('Predicted Temperature')\n",
    "    plt.show()"
   ]
  },
  {
   "cell_type": "code",
   "execution_count": 34,
   "metadata": {},
   "outputs": [
    {
     "data": {
      "application/vnd.jupyter.widget-view+json": {
       "model_id": "555e58740f2844b8977f72b80866bca2",
       "version_major": 2,
       "version_minor": 0
      },
      "text/plain": [
       "interactive(children=(IntSlider(value=7, description='timestep', max=15), Dropdown(description='material', opt…"
      ]
     },
     "metadata": {},
     "output_type": "display_data"
    },
    {
     "data": {
      "text/plain": [
       "<function __main__.plot_melt(timestep, material, P, v, zoom)>"
      ]
     },
     "execution_count": 34,
     "metadata": {},
     "output_type": "execute_result"
    }
   ],
   "source": [
    "\n",
    "interact_manual(plot_melt,timestep=(0,15, 1), material=[('Titanium', 1), ('Stainless', 2), ('HastelloyX',3)], P=(50,200,10), v=(0.2,2,0.02), zoom=(1,5,1))\n"
   ]
  },
  {
   "cell_type": "code",
   "execution_count": null,
   "metadata": {},
   "outputs": [],
   "source": []
  }
 ],
 "metadata": {
  "kernelspec": {
   "display_name": "Python 3 (ipykernel)",
   "language": "python",
   "name": "python3"
  },
  "language_info": {
   "codemirror_mode": {
    "name": "ipython",
    "version": 3
   },
   "file_extension": ".py",
   "mimetype": "text/x-python",
   "name": "python",
   "nbconvert_exporter": "python",
   "pygments_lexer": "ipython3",
   "version": "3.8.12"
  }
 },
 "nbformat": 4,
 "nbformat_minor": 2
}
